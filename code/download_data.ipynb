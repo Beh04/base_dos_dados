{
 "cells": [
  {
   "cell_type": "code",
   "execution_count": null,
   "metadata": {},
   "outputs": [],
   "source": [
    "import requests\n",
    "\n",
    "# Format can be '[csv', 'xlsx', 'ods', 'json', 'xml'], but only 'csv' is \n",
    "# supported by later scripts\n",
    "def download_data(start_year=2015, end_year=2024, format=\"csv\"):\n",
    "\n",
    "    for year in range(start_year, end_year+1):\n",
    "        \n",
    "        url = f\"https://datasus.saude.gov.br/transferencia-de-arquivos/#{format}/eventos-{year}.{format}\"\n",
    "        response = requests.get(url)\n",
    "        response.raise_for_status()\n",
    "\n",
    "        # TODO fix table names\n",
    "        with open(f\"../input/chikungunya_{year}.{format}\", \"w\") as f:\n",
    "            content_as_string = response.content.decode()\n",
    "            f.write(content_as_string)\n",
    "\n",
    "        print(f\"Successfully downloaded for year {year}\")\n",
    "\n",
    "if __name__ == \"__main__\":\n",
    "    download_data()"
   ]
  }
 ],
 "metadata": {
  "kernelspec": {
   "display_name": "Dengue",
   "language": "python",
   "name": "python3"
  },
  "language_info": {
   "codemirror_mode": {
    "name": "ipython",
    "version": 3
   },
   "file_extension": ".py",
   "mimetype": "text/x-python",
   "name": "python",
   "nbconvert_exporter": "python",
   "pygments_lexer": "ipython3",
   "version": "3.12.2"
  }
 },
 "nbformat": 4,
 "nbformat_minor": 2
}
